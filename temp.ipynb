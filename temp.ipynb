{
 "cells": [
  {
   "cell_type": "markdown",
   "metadata": {},
   "source": [
    "# Übungen zum Code lesen"
   ]
  },
  {
   "cell_type": "markdown",
   "metadata": {},
   "source": [
    "## 1 Fehlertypen\n",
    "_________________________________________________________________________\n",
    "Ist das folgende ein Compilerfehler, Laufzeitfehler oder gar kein Fehler?"
   ]
  },
  {
   "cell_type": "code",
   "execution_count": null,
   "metadata": {},
   "outputs": [],
   "source": [
    "//// prog1.c\n",
    "#include <stdio.h>\n",
    "\n",
    "int main()\n",
    "{\n",
    "    int arr[3][3] = { {1, 2, 3}, {4, 5, 6}, {7, 8, 9} };\n",
    "    printf(\"%d\\n\", arr[3][0]);\n",
    "    return 0;\n",
    "}"
   ]
  },
  {
   "cell_type": "markdown",
   "metadata": {},
   "source": [
    "_________________________________________________________________________\n",
    "Ist das folgende ein Compilerfehler, Laufzeitfehler oder gar kein Fehler?"
   ]
  },
  {
   "cell_type": "code",
   "execution_count": null,
   "metadata": {},
   "outputs": [],
   "source": [
    "//// prog5.c\n",
    "#include <stdio.h>\n",
    "\n",
    "void printElement(int arr[3][3], int row, int col);\n",
    "\n",
    "int main()\n",
    "{\n",
    "\tint arr1[3][3];\n",
    "\n",
    "\tfor (int i = 0; i <= 3; i++)\n",
    "    {\n",
    "\t\tfor (int j = 0; j <= 3; j++)\n",
    "\t\t\tarr1[i][j] = i + j;\n",
    "\t}\n",
    "\n",
    "\tint *p = &arr1[0][0];\n",
    "\tint index = 2;\n",
    "\n",
    "\tswitch (index)\n",
    "    {\n",
    "\t\tcase 0:\n",
    "\t\t\tprintf(\"%d\\n\", *(p + 9));\n",
    "\t\t\tbreak;\n",
    "\t\tcase 1:\n",
    "\t\t\tint c = (int) ((char*)p + 1);\n",
    "\t\t\tprintf(\"%d\\n\", c);\n",
    "\t\t\tbreak;\n",
    "\t\tdefault:\n",
    "\t\t\tprintf(\"Invalid index\\n\");\n",
    "\t}\n",
    "\n",
    "\tprintElement(arr1, 3, 3);\n",
    "\treturn 0;\n",
    "}\n",
    "\n",
    "void printElement(int arr[3], int row, int col)\n",
    "{\n",
    "\tprintf(\"Element at [%d][%d] is %d\\n\", row, col, arr[row][col]);\n",
    "}"
   ]
  },
  {
   "cell_type": "markdown",
   "metadata": {},
   "source": [
    "## 2 Ausgaben\n",
    "______________________________________________________________________\n",
    "Was gibt der folgende Code aus?"
   ]
  },
  {
   "cell_type": "code",
   "execution_count": 1,
   "metadata": {},
   "outputs": [
    {
     "name": "stdout",
     "output_type": "stream",
     "text": [
      "wrote file prog2.c\n",
      "$> gcc   prog2.c    -o prog2\n",
      "$> ./prog2 \n",
      "0 0 0 0 0 0 0 0 0 \n",
      "0 0 0 0 0 0 0 0 0 \n",
      "0 0 0 0 0 0 0 0 0 \n"
     ]
    }
   ],
   "source": [
    "//// prog2.c\n",
    "#include <stdio.h>\n",
    "\n",
    "int main()\n",
    "{\n",
    "    int arr[3][3];\n",
    "    \n",
    "    for (int i = 0; i < 3; i++)\n",
    "    {\n",
    "        for (int j = 0; j < 3; j++)\n",
    "        {\n",
    "            printf(\"%d \", arr[i][j]);\n",
    "            for (int i = 0; i <= 3; i++)\n",
    "                    printf(\"%d \", *arr[i++]);\n",
    "        }\n",
    "\n",
    "        printf(\"\\n\");\n",
    "    }\n",
    "\n",
    "    return 0;\n",
    "}\n"
   ]
  },
  {
   "cell_type": "markdown",
   "metadata": {},
   "source": [
    "______________________________________________________________________\n",
    "Was gibt der folgende Code aus?"
   ]
  },
  {
   "cell_type": "code",
   "execution_count": 1,
   "metadata": {},
   "outputs": [
    {
     "name": "stdout",
     "output_type": "stream",
     "text": [
      "wrote file prog3.c\n",
      "$> gcc   prog3.c    -o prog3\n",
      "$> ./prog3 \n",
      "3\n"
     ]
    }
   ],
   "source": [
    "//// prog3.c\n",
    "#include <stdio.h>\n",
    "\n",
    "int main()\n",
    "{\n",
    "\tint arr[3][3] = { {1, 2, 3},\n",
    "\t\t\t\t\t  {4, 5, 6},\n",
    "\t\t\t\t\t  {7, 8, 9} };\n",
    "\tint *p = &arr[0][0];\n",
    "\tint index = 0;\n",
    "\n",
    "\tif(index = 1)\n",
    "\t\tarr[2][2] = 0;\n",
    "\n",
    "\tswitch (index)\n",
    "\t{\n",
    "\t\tcase 0:\n",
    "\t\t\tprintf(\"%d\\n\", *(p + 9));\n",
    "\t\t\tbreak;\n",
    "\t\tcase 1:\n",
    "\t\t\tprintf(\"%d\\n\", *(p + 2));\n",
    "\t\t\tbreak;\n",
    "\t\tdefault:\n",
    "\t\t\tprintf(\"Invalid index\\n\");\n",
    "\t}\n",
    "\n",
    "\treturn 0;\n",
    "}"
   ]
  },
  {
   "cell_type": "markdown",
   "metadata": {},
   "source": [
    "______________________________________________________________________\n",
    "Was gibt der folgende Code aus?"
   ]
  },
  {
   "cell_type": "code",
   "execution_count": null,
   "metadata": {},
   "outputs": [],
   "source": [
    "//// prog4.c\n",
    "#include <stdio.h>\n",
    "\n",
    "void printElement(int arr[3][3], int row, int col)\n",
    "{\n",
    "    printf(\"%d\\n\", arr[col][row]);\n",
    "}\n",
    "\n",
    "int main()\n",
    "{\n",
    "    int arr[3][3] = { {1, 2, 3},\n",
    "                      {4, 5, 6},\n",
    "                      {7, 8, 9} };\n",
    "\n",
    "    printElement(arr, 1, 2);\n",
    "    printElement(arr, 2, 1);\n",
    "\n",
    "    return 0;\n",
    "}"
   ]
  },
  {
   "cell_type": "markdown",
   "metadata": {},
   "source": [
    "______________________________________________________________________\n",
    "Was gibt der folgende Code aus?"
   ]
  },
  {
   "cell_type": "code",
   "execution_count": 1,
   "metadata": {},
   "outputs": [
    {
     "name": "stdout",
     "output_type": "stream",
     "text": [
      "wrote file prog5.c\n",
      "$> gcc   prog5.c    -o prog5\n"
     ]
    },
    {
     "name": "stderr",
     "output_type": "stream",
     "text": [
      "prog5.c: In function ‘main’:\n",
      "prog5.c:10:25: warning: format ‘%d’ expects argument of type ‘int’, but argument 2 has type ‘int *’ [-Wformat=]\n",
      "   10 |     printf(\"*myArr+4 = %d, *(myArr+4) = %d, *(ptr + 4) = %d\", *myArr+4, *(myArr + 4), *(ptr + 4));\n",
      "      |                        ~^                                     ~~~~~~~~\n",
      "      |                         |                                           |\n",
      "      |                         int                                         int *\n",
      "      |                        %ls\n",
      "prog5.c:10:42: warning: format ‘%d’ expects argument of type ‘int’, but argument 3 has type ‘int *’ [-Wformat=]\n",
      "   10 |     printf(\"*myArr+4 = %d, *(myArr+4) = %d, *(ptr + 4) = %d\", *myArr+4, *(myArr + 4), *(ptr + 4));\n",
      "      |                                         ~^                               ~~~~~~~~~~~\n",
      "      |                                          |                                      |\n",
      "      |                                          int                                    int *\n",
      "      |                                         %ls\n"
     ]
    },
    {
     "name": "stdout",
     "output_type": "stream",
     "text": [
      "$> ./prog5 \n",
      "*myArr+4 = 1509058640, *(myArr+4) = 1509058672, *(ptr + 4) = 5"
     ]
    }
   ],
   "source": [
    "//// prog5.c\n",
    "#include <stdio.h>\n",
    "\n",
    "int main() {\n",
    "    int myArr[2][3] = { {1, 2, 3}, {4, 5, 6} };\n",
    "\n",
    "    int *ptr = &myArr[0][0];\n",
    "    int value = *(ptr + 4);\n",
    "\n",
    "    printf(\"*myArr + 4 = %d, *(myArr + 4) = %d, *(ptr + 4) = %d\", *myArr+4, *(myArr + 4), *(ptr + 4));\n",
    "\n",
    "    return 0;\n",
    "}"
   ]
  },
  {
   "cell_type": "markdown",
   "metadata": {},
   "source": [
    "Understanding *myArr + 4\n",
    "\n",
    "    myArr is an array of arrays, specifically int[2][3].\n",
    "    When myArr is used in an expression, it decays to a pointer to its first element, which is of type int (*)[3] (a pointer to an array of 3 integers).\n",
    "    *myArr dereferences this pointer, resulting in an array of 3 integers (int[3]).\n",
    "    In C, arrays decay to pointers to their first element. Therefore, *myArr decays to &myArr[0][0], which is of type int *.\n",
    "    Adding 4 to *myArr (*myArr + 4) results in a pointer to the 4th element of the first row, &myArr[0][4].\n",
    "\n",
    "Understanding *(myArr + 4)\n",
    "\n",
    "    myArr decays to int (*)[3].\n",
    "    myArr + 4 increments this pointer by 4, resulting in a pointer of type int (*)[3] that points 4 arrays of 3 integers past the start of myArr, which is out of bounds for myArr.\n",
    "    Dereferencing this pointer (*(myArr + 4)) results in undefined behavior since it is accessing memory outside the bounds of the allocated array.\n",
    "\n",
    "Correct Pointer Arithmetic to Access myArr[1][1]\n",
    "\n",
    "To access myArr[1][1], you should use the correct pointer arithmetic that takes into account the row-major order of the 2D array.\n",
    "\n",
    "    myArr[0][0] is the base address.\n",
    "    myArr[1][1] is 4 elements past myArr[0][0] in a 2D array of 2 rows and 3 columns."
   ]
  }
 ],
 "metadata": {
  "kernelspec": {
   "display_name": "C/C++",
   "language": "",
   "name": "ckernel"
  },
  "language_info": {
   "codemirror_mode": "text/x-csrc",
   "name": "c"
  }
 },
 "nbformat": 4,
 "nbformat_minor": 4
}
