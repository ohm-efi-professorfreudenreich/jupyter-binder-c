{
 "cells": [
  {
   "cell_type": "markdown",
   "metadata": {},
   "source": [
    "# Übungen zum Code lesen"
   ]
  },
  {
   "cell_type": "markdown",
   "metadata": {},
   "source": [
    "## 1 Fehlertypen\n",
    "_________________________________________________________________________\n",
    "Ist das folgende ein Compilerfehler, Laufzeitfehler oder gar kein Fehler?"
   ]
  },
  {
   "cell_type": "code",
   "execution_count": null,
   "metadata": {},
   "outputs": [],
   "source": [
    "//// prog1.c\n",
    "#include <stdio.h>\n",
    "\n",
    "int main()\n",
    "{\n",
    "    int arr[3][3] = { {1, 2, 3}, {4, 5, 6}, {7, 8, 9} };\n",
    "    printf(\"%d\\n\", arr[3][0]);\n",
    "    return 0;\n",
    "}"
   ]
  },
  {
   "cell_type": "markdown",
   "metadata": {},
   "source": [
    "_________________________________________________________________________\n",
    "Ist das folgende ein Compilerfehler, Laufzeitfehler oder gar kein Fehler?"
   ]
  },
  {
   "cell_type": "code",
   "execution_count": null,
   "metadata": {},
   "outputs": [],
   "source": [
    "//// prog5.c\n",
    "#include <stdio.h>\n",
    "\n",
    "void printElement(int arr[3][3], int row, int col);\n",
    "\n",
    "int main()\n",
    "{\n",
    "\tint arr1[3][3];\n",
    "\n",
    "\tfor (int i = 0; i <= 3; i++)\n",
    "    {\n",
    "\t\tfor (int j = 0; j <= 3; j++)\n",
    "\t\t\tarr1[i][j] = i + j;\n",
    "\t}\n",
    "\n",
    "\tint *p = &arr1[0][0];\n",
    "\tint index = 2;\n",
    "\n",
    "\tswitch (index)\n",
    "    {\n",
    "\t\tcase 0:\n",
    "\t\t\tprintf(\"%d\\n\", *(p + 9));\n",
    "\t\t\tbreak;\n",
    "\t\tcase 1:\n",
    "\t\t\tint c = (int) ((char*)p + 1);\n",
    "\t\t\tprintf(\"%d\\n\", c);\n",
    "\t\t\tbreak;\n",
    "\t\tdefault:\n",
    "\t\t\tprintf(\"Invalid index\\n\");\n",
    "\t}\n",
    "\n",
    "\tprintElement(arr1, 3, 3);\n",
    "\treturn 0;\n",
    "}\n",
    "\n",
    "void printElement(int arr[3], int row, int col)\n",
    "{\n",
    "\tprintf(\"Element at [%d][%d] is %d\\n\", row, col, arr[row][col]);\n",
    "}"
   ]
  },
  {
   "cell_type": "markdown",
   "metadata": {},
   "source": [
    "## 2 Ausgaben\n",
    "______________________________________________________________________\n",
    "Was gibt der folgende Code aus?"
   ]
  },
  {
   "cell_type": "code",
   "execution_count": null,
   "metadata": {},
   "outputs": [],
   "source": [
    "//// prog2.c\n",
    "#include <stdio.h>\n",
    "\n",
    "int main()\n",
    "{\n",
    "    int arr[3][3];\n",
    "    \n",
    "    for (int i = 0; i < 3; i++)\n",
    "    {\n",
    "        for (int j = 0; j < 3; j++)\n",
    "            printf(\"%d \", arr[i][j]);\n",
    "\n",
    "        printf(\"\\n\");\n",
    "    }\n",
    "\n",
    "    return 0;\n",
    "}\n"
   ]
  },
  {
   "cell_type": "markdown",
   "metadata": {},
   "source": [
    "______________________________________________________________________\n",
    "Was gibt der folgende Code aus?"
   ]
  },
  {
   "cell_type": "code",
   "execution_count": null,
   "metadata": {},
   "outputs": [],
   "source": [
    "//// prog3.c\n",
    "#include <stdio.h>\n",
    "\n",
    "int main()\n",
    "{\n",
    "\tint arr[3][3] = { {1, 2, 3}, \n",
    "                      {4, 5, 6}, \n",
    "                      {7, 8, 9} };\n",
    "\tint *p = &arr[0][0];\n",
    "\tint index = 0;\n",
    "\n",
    "\tswitch (index)\n",
    "    {\n",
    "\t\tcase 0:\n",
    "\t\t\tprintf(\"%d\\n\", *(p + 9));\n",
    "\t\t\tbreak;\n",
    "\t\tcase 1:\n",
    "\t\t\tprintf(\"%d\\n\", *(p + 2));\n",
    "\t\t\tbreak;\n",
    "\t\tdefault:\n",
    "\t\t\tprintf(\"Invalid index\\n\");\n",
    "\t}\n",
    "\n",
    "\treturn 0;\n",
    "}"
   ]
  },
  {
   "cell_type": "markdown",
   "metadata": {},
   "source": [
    "______________________________________________________________________\n",
    "Was gibt der folgende Code aus?"
   ]
  },
  {
   "cell_type": "code",
   "execution_count": null,
   "metadata": {},
   "outputs": [],
   "source": [
    "//// prog4.c\n",
    "#include <stdio.h>\n",
    "\n",
    "void printElement(int arr[3][3], int row, int col)\n",
    "{\n",
    "    printf(\"%d\\n\", arr[col][row]);\n",
    "}\n",
    "\n",
    "int main()\n",
    "{\n",
    "    int arr[3][3] = { {1, 2, 3},\n",
    "                      {4, 5, 6},\n",
    "                      {7, 8, 9} };\n",
    "\n",
    "    printElement(arr, 1, 2);\n",
    "    printElement(arr, 2, 1);\n",
    "\n",
    "    return 0;\n",
    "}"
   ]
  }
 ],
 "metadata": {
  "kernelspec": {
   "display_name": "C/C++",
   "language": "",
   "name": "ckernel"
  },
  "language_info": {
   "codemirror_mode": "text/x-csrc",
   "name": "c"
  }
 },
 "nbformat": 4,
 "nbformat_minor": 4
}
